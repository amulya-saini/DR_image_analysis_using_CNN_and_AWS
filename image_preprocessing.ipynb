{
 "cells": [
  {
   "cell_type": "code",
   "execution_count": null,
   "metadata": {
    "colab": {},
    "colab_type": "code",
    "id": "VpDETeBfR2w8"
   },
   "outputs": [],
   "source": [
    "# import required packages\n",
    "import warnings\n",
    "warnings.filterwarnings('ignore')\n",
    "\n",
    "import pandas as pd\n",
    "import os\n",
    "import random\n",
    "import cv2\n",
    "import math\n",
    "import boto3\n",
    "import numpy as np\n",
    "from PIL import Image\n",
    "from skimage import io\n",
    "from skimage import exposure\n",
    "import matplotlib.pyplot as plt\n",
    "import matplotlib.patches as patches\n",
    "from sklearn.utils import shuffle\n",
    "from tqdm import tqdm_notebook\n",
    "from imutils import paths\n",
    "%matplotlib inline"
   ]
  },
  {
   "cell_type": "code",
   "execution_count": null,
   "metadata": {},
   "outputs": [],
   "source": [
    "# Connect to AWS S3 using provided access key ID and secret access key\n",
    "s3 = boto3.client('s3',\n",
    "                  aws_access_key_id='***',\n",
    "                  aws_secret_access_key='***',\n",
    "                  region_name='us-east-2')"
   ]
  },
  {
   "cell_type": "code",
   "execution_count": null,
   "metadata": {},
   "outputs": [],
   "source": [
    "# Define S3 bucket name and directory\n",
    "S3_BUCKET_NAME = 'drprojectbucket'\n",
    "S3_TRAIN_IMAGES_PREFIX = 'train/'"
   ]
  },
  {
   "cell_type": "code",
   "execution_count": null,
   "metadata": {},
   "outputs": [],
   "source": [
    "# Define local directory to store images\n",
    "LOCAL_IMAGE_DIR = \"./tmp/train/\""
   ]
  },
  {
   "cell_type": "code",
   "execution_count": null,
   "metadata": {},
   "outputs": [],
   "source": [
    "# Function to download images from S3\n",
    "def download_images_from_s3(bucket_name, prefix, local_dir):\n",
    "    paginator = s3.get_paginator('list_objects')\n",
    "    for result in paginator.paginate(Bucket=bucket_name, Delimiter='/', Prefix=prefix):\n",
    "        if 'Contents' in result:\n",
    "            for item in result['Contents']:\n",
    "                key = item['Key']\n",
    "                if key.endswith('.jpeg'):  # Assuming images are JPEG format\n",
    "                    local_path = os.path.join(local_dir, os.path.basename(key))\n",
    "                    s3.download_file(bucket_name, key, local_path)"
   ]
  },
  {
   "cell_type": "code",
   "execution_count": null,
   "metadata": {},
   "outputs": [],
   "source": [
    "# Download images from S3 to local directory\n",
    "download_images_from_s3(S3_BUCKET_NAME, S3_TRAIN_IMAGES_PREFIX, LOCAL_IMAGE_DIR)"
   ]
  },
  {
   "cell_type": "code",
   "execution_count": null,
   "metadata": {
    "colab": {
     "base_uri": "https://localhost:8080/",
     "height": 206
    },
    "colab_type": "code",
    "id": "erzVi7zdR47r",
    "outputId": "c508902b-047f-4623-cb6e-c0fe38c8caa0"
   },
   "outputs": [
    {
     "data": {
      "text/html": [
       "<div>\n",
       "<style scoped>\n",
       "    .dataframe tbody tr th:only-of-type {\n",
       "        vertical-align: middle;\n",
       "    }\n",
       "\n",
       "    .dataframe tbody tr th {\n",
       "        vertical-align: top;\n",
       "    }\n",
       "\n",
       "    .dataframe thead th {\n",
       "        text-align: right;\n",
       "    }\n",
       "</style>\n",
       "<table border=\"1\" class=\"dataframe\">\n",
       "  <thead>\n",
       "    <tr style=\"text-align: right;\">\n",
       "      <th></th>\n",
       "      <th>image</th>\n",
       "      <th>level</th>\n",
       "    </tr>\n",
       "  </thead>\n",
       "  <tbody>\n",
       "    <tr>\n",
       "      <th>0</th>\n",
       "      <td>10_left</td>\n",
       "      <td>0</td>\n",
       "    </tr>\n",
       "    <tr>\n",
       "      <th>1</th>\n",
       "      <td>10_right</td>\n",
       "      <td>0</td>\n",
       "    </tr>\n",
       "    <tr>\n",
       "      <th>2</th>\n",
       "      <td>13_left</td>\n",
       "      <td>0</td>\n",
       "    </tr>\n",
       "    <tr>\n",
       "      <th>3</th>\n",
       "      <td>13_right</td>\n",
       "      <td>0</td>\n",
       "    </tr>\n",
       "    <tr>\n",
       "      <th>4</th>\n",
       "      <td>15_left</td>\n",
       "      <td>1</td>\n",
       "    </tr>\n",
       "  </tbody>\n",
       "</table>\n",
       "</div>"
      ],
      "text/plain": [
       "      image  level\n",
       "0   10_left      0\n",
       "1  10_right      0\n",
       "2   13_left      0\n",
       "3  13_right      0\n",
       "4   15_left      1"
      ]
     },
     "execution_count": 8,
     "metadata": {
      "tags": []
     },
     "output_type": "execute_result"
    }
   ],
   "source": [
    "# load the trainLabels from local dir (EC2 directory)\n",
    "trainLabels = pd.read_csv(\"trainLabels.csv\")\n",
    "trainLabels.head()"
   ]
  },
  {
   "cell_type": "code",
   "execution_count": null,
   "metadata": {
    "colab": {},
    "colab_type": "code",
    "id": "LLPuhLS8R_Ft"
   },
   "outputs": [],
   "source": [
    "# create folders within train to store images based on their label\n",
    "!mkdir tmp/train/0\n",
    "!mkdir tmp/train/1\n",
    "!mkdir tmp/train/2\n",
    "!mkdir tmp/train/3\n",
    "!mkdir tmp/train/4\n"
   ]
  },
  {
   "cell_type": "code",
   "execution_count": null,
   "metadata": {
    "colab": {},
    "colab_type": "code",
    "id": "gYqziQBpSB_Y"
   },
   "outputs": [],
   "source": [
    "listing = os.listdir(\"tmp/train\") \n",
    "base_dir = \"tmp/train/\"\n",
    "\n",
    "for file in listing:\n",
    "    try:\n",
    "        fileName = os.path.splitext(file)[0]\n",
    "        folder_name = trainLabels.loc[trainLabels.image==fileName, 'level'].values[0]  \n",
    "        os.rename(base_dir + file, base_dir + str(folder_name) + \"/\" + file )\n",
    "    except:\n",
    "        print(\"error\")\n",
    "        pass"
   ]
  },
  {
   "cell_type": "code",
   "execution_count": null,
   "metadata": {
    "colab": {},
    "colab_type": "code",
    "id": "QagMX8GJkkyw"
   },
   "outputs": [],
   "source": [
    "def variance_of_laplacian(image):\n",
    "    \"\"\"\n",
    "    Calculate the variance of the Laplacian of an image.\n",
    "    \n",
    "    Parameters:\n",
    "        image (numpy.ndarray): Input image as a NumPy array.\n",
    "        \n",
    "    Returns:\n",
    "        float: Variance of the Laplacian.\n",
    "    \"\"\"\n",
    "    # Compute the Laplacian of the image and then return the focus measure,\n",
    "    # which is simply the variance of the Laplacian\n",
    "    return cv2.Laplacian(image, cv2.CV_64F).var()"
   ]
  },
  {
   "cell_type": "code",
   "execution_count": null,
   "metadata": {
    "colab": {},
    "colab_type": "code",
    "id": "cqLUSl-mklt0"
   },
   "outputs": [],
   "source": [
    "def blur_check(PATH): \n",
    "    \"\"\"\n",
    "    Check for image blur by computing the variance of the Laplacian.\n",
    "    \n",
    "    Parameters:\n",
    "        PATH (str): Path to the directory containing images.\n",
    "        \n",
    "    Returns:\n",
    "        dict: A dictionary mapping image filenames to their blur scores.\n",
    "    \"\"\"\n",
    "    image_dict = {}\n",
    "    list_of_images = os.listdir(PATH)\n",
    "    for im in list_of_images:\n",
    "        image = cv2.imread(PATH + im)\n",
    "        gray = cv2.cvtColor(image, cv2.COLOR_BGR2GRAY)\n",
    "        fm = variance_of_laplacian(gray)\n",
    "        image_dict[im] = fm\n",
    "    return image_dict"
   ]
  },
  {
   "cell_type": "code",
   "execution_count": null,
   "metadata": {},
   "outputs": [],
   "source": [
    "def resize(PATH):\n",
    "    \"\"\"\n",
    "    Resize images in a directory to (512, 512) using OpenCV.\n",
    "    \n",
    "    Parameters:\n",
    "        PATH (str): Path to the directory containing images.\n",
    "    \"\"\"\n",
    "    images = os.listdir(PATH);\n",
    "    for image in images:\n",
    "        name = PATH + image\n",
    "        im = cv2.imread(name)\n",
    "        im = cv2.resize(im, (512, 512));\n",
    "        cv2.imwrite(name, im)"
   ]
  },
  {
   "cell_type": "code",
   "execution_count": null,
   "metadata": {},
   "outputs": [],
   "source": [
    "def remove_blur_images(BASE_DIR, to_delete):\n",
    "    \"\"\"\n",
    "    Remove blurry images from a directory.\n",
    "    \n",
    "    Parameters:\n",
    "        BASE_DIR (str): Base directory where images are located.\n",
    "        to_delete (list): List of filenames of images to be deleted.\n",
    "    \"\"\"\n",
    "    for file in to_delete:\n",
    "        os.remove(BASE_DIR + file)"
   ]
  },
  {
   "cell_type": "code",
   "execution_count": null,
   "metadata": {},
   "outputs": [],
   "source": [
    "def data_aug_val(path):\n",
    "    \"\"\"\n",
    "    Apply data augmentation techniques to images in a directory.\n",
    "    \n",
    "    Parameters:\n",
    "        path (str): Path to the directory containing images.\n",
    "    \"\"\"\n",
    "    listing_test = os.listdir(path)\n",
    "    for file_name in listing_test:\n",
    "        image = io.imread(path + file_name)\n",
    "        v_min, v_max = np.percentile(image, (0.2, 99.8))\n",
    "        better_contrast = exposure.rescale_intensity(image, in_range=(v_min, v_max))\n",
    "        log_correction_image = exposure.adjust_log(image)\n",
    "        sigmoid_correction_image = exposure.adjust_sigmoid(image)\n",
    "        horizontal_flip = image[:, ::-1]\n",
    "        io.imsave(path + str(1) + file_name, better_contrast)\n",
    "        io.imsave(path + str(2) + file_name, log_correction_image)\n",
    "        io.imsave(path + str(3) + file_name, sigmoid_correction_image)"
   ]
  },
  {
   "cell_type": "code",
   "execution_count": null,
   "metadata": {},
   "outputs": [],
   "source": [
    "def remove_excess_images(PATH, number):\n",
    "    \"\"\"\n",
    "    Remove excess images from a directory.\n",
    "    \n",
    "    Parameters:\n",
    "        PATH (str): Path to the directory containing images.\n",
    "        number (int): Number of images to keep.\n",
    "    \"\"\"\n",
    "    listing = os.listdir(PATH) \n",
    "    to_delete = random.sample(listing, number)\n",
    "    for file in to_delete:\n",
    "        os.remove(PATH + file)"
   ]
  },
  {
   "cell_type": "code",
   "execution_count": null,
   "metadata": {},
   "outputs": [],
   "source": [
    "def data_aug_val_1(path):\n",
    "    \"\"\"\n",
    "    Apply specific data augmentation techniques to images in a directory.\n",
    "    \n",
    "    Parameters:\n",
    "        path (str): Path to the directory containing images.\n",
    "    \"\"\"\n",
    "    listing_test = os.listdir(path)\n",
    "    for file_name in listing_test:\n",
    "        image = io.imread(path + file_name)\n",
    "        log_correction_image = exposure.adjust_log(image)\n",
    "        io.imsave(path + str(2) + file_name, log_correction_image)"
   ]
  },
  {
   "cell_type": "code",
   "execution_count": null,
   "metadata": {
    "colab": {
     "base_uri": "https://localhost:8080/",
     "height": 364
    },
    "colab_type": "code",
    "id": "hxWseyy_k1Dj",
    "outputId": "7aa45ec7-2646-4e21-c843-9f5d2b47503f"
   },
   "outputs": [
    {
     "name": "stdout",
     "output_type": "stream",
     "text": [
      "CPU times: user 39min 41s, sys: 1min 44s, total: 41min 26s\n",
      "Wall time: 40min 25s\n",
      "CPU times: user 39min 41s, sys: 1min 44s, total: 41min 26s\n",
      "Wall time: 40min 25s\n",
      "CPU times: user 3min 43s, sys: 10.1 s, total: 3min 53s\n",
      "Wall time: 3min 47s\n",
      "CPU times: user 3min 43s, sys: 10.1 s, total: 3min 53s\n",
      "Wall time: 3min 47s\n",
      "CPU times: user 8min 25s, sys: 22.6 s, total: 8min 47s\n",
      "Wall time: 8min 34s\n",
      "CPU times: user 8min 25s, sys: 22.6 s, total: 8min 47s\n",
      "Wall time: 8min 34s\n",
      "CPU times: user 1min 24s, sys: 3.61 s, total: 1min 28s\n",
      "Wall time: 1min 26s\n",
      "CPU times: user 1min 24s, sys: 3.61 s, total: 1min 28s\n",
      "Wall time: 1min 26s\n",
      "CPU times: user 1min 9s, sys: 2.96 s, total: 1min 12s\n",
      "Wall time: 1min 10s\n",
      "CPU times: user 1min 9s, sys: 2.96 s, total: 1min 12s\n",
      "Wall time: 1min 10s\n"
     ]
    }
   ],
   "source": [
    "# Resize the images\n",
    "%time resize(\"tmp/train/0/\")\n",
    "%time resize(\"tmp/train/1/\")\n",
    "%time resize(\"tmp/train/2/\")\n",
    "%time resize(\"tmp/train/3/\")\n",
    "%time resize(\"tmp/train/4/\")"
   ]
  },
  {
   "cell_type": "markdown",
   "metadata": {},
   "source": [
    "Calculate blur score for images in directory \"0\" and remove blurry images"
   ]
  },
  {
   "cell_type": "code",
   "execution_count": null,
   "metadata": {
    "colab": {
     "base_uri": "https://localhost:8080/",
     "height": 86
    },
    "colab_type": "code",
    "id": "00qae61Rk3ZE",
    "outputId": "8cd928ec-3ceb-473f-8330-d127d89c186b"
   },
   "outputs": [
    {
     "name": "stdout",
     "output_type": "stream",
     "text": [
      "CPU times: user 3min 34s, sys: 25.3 s, total: 4min\n",
      "Wall time: 3min 34s\n",
      "CPU times: user 3min 34s, sys: 25.3 s, total: 4min\n",
      "Wall time: 3min 34s\n"
     ]
    }
   ],
   "source": [
    "# calculate blur scores for images in directory \"0\"\n",
    "%time dict_sharp = blur_check(\"./tmp/train/0/\")"
   ]
  },
  {
   "cell_type": "code",
   "execution_count": null,
   "metadata": {
    "colab": {},
    "colab_type": "code",
    "id": "i568cAPHlDlp"
   },
   "outputs": [],
   "source": [
    "# Creating a dataframe of blur scores and image names\n",
    "val_series = pd.Series(dict_sharp)\n",
    "df = pd.DataFrame(val_series,columns=[\"val\"])\n",
    "df.sort_values(by='val',inplace=True)\n",
    "df.reset_index(level=0, inplace=True)"
   ]
  },
  {
   "cell_type": "code",
   "execution_count": null,
   "metadata": {
    "colab": {
     "base_uri": "https://localhost:8080/",
     "height": 363
    },
    "colab_type": "code",
    "id": "BsdYMeR9ymvC",
    "outputId": "d18805b9-e714-4e8e-fdbf-19d7e35f2a78"
   },
   "outputs": [
    {
     "data": {
      "text/html": [
       "<div>\n",
       "<style scoped>\n",
       "    .dataframe tbody tr th:only-of-type {\n",
       "        vertical-align: middle;\n",
       "    }\n",
       "\n",
       "    .dataframe tbody tr th {\n",
       "        vertical-align: top;\n",
       "    }\n",
       "\n",
       "    .dataframe thead th {\n",
       "        text-align: right;\n",
       "    }\n",
       "</style>\n",
       "<table border=\"1\" class=\"dataframe\">\n",
       "  <thead>\n",
       "    <tr style=\"text-align: right;\">\n",
       "      <th></th>\n",
       "      <th>index</th>\n",
       "      <th>val</th>\n",
       "    </tr>\n",
       "  </thead>\n",
       "  <tbody>\n",
       "    <tr>\n",
       "      <th>2990</th>\n",
       "      <td>23233_left.jpeg</td>\n",
       "      <td>29.951339</td>\n",
       "    </tr>\n",
       "    <tr>\n",
       "      <th>2991</th>\n",
       "      <td>13042_left.jpeg</td>\n",
       "      <td>29.955024</td>\n",
       "    </tr>\n",
       "    <tr>\n",
       "      <th>2992</th>\n",
       "      <td>38243_right.jpeg</td>\n",
       "      <td>29.963623</td>\n",
       "    </tr>\n",
       "    <tr>\n",
       "      <th>2993</th>\n",
       "      <td>41312_left.jpeg</td>\n",
       "      <td>29.971027</td>\n",
       "    </tr>\n",
       "    <tr>\n",
       "      <th>2994</th>\n",
       "      <td>20316_left.jpeg</td>\n",
       "      <td>29.976616</td>\n",
       "    </tr>\n",
       "    <tr>\n",
       "      <th>2995</th>\n",
       "      <td>13196_right.jpeg</td>\n",
       "      <td>29.979807</td>\n",
       "    </tr>\n",
       "    <tr>\n",
       "      <th>2996</th>\n",
       "      <td>33159_left.jpeg</td>\n",
       "      <td>29.982596</td>\n",
       "    </tr>\n",
       "    <tr>\n",
       "      <th>2997</th>\n",
       "      <td>38162_left.jpeg</td>\n",
       "      <td>29.989548</td>\n",
       "    </tr>\n",
       "    <tr>\n",
       "      <th>2998</th>\n",
       "      <td>43225_right.jpeg</td>\n",
       "      <td>29.992973</td>\n",
       "    </tr>\n",
       "    <tr>\n",
       "      <th>2999</th>\n",
       "      <td>14933_right.jpeg</td>\n",
       "      <td>29.996082</td>\n",
       "    </tr>\n",
       "  </tbody>\n",
       "</table>\n",
       "</div>"
      ],
      "text/plain": [
       "                 index        val\n",
       "2990   23233_left.jpeg  29.951339\n",
       "2991   13042_left.jpeg  29.955024\n",
       "2992  38243_right.jpeg  29.963623\n",
       "2993   41312_left.jpeg  29.971027\n",
       "2994   20316_left.jpeg  29.976616\n",
       "2995  13196_right.jpeg  29.979807\n",
       "2996   33159_left.jpeg  29.982596\n",
       "2997   38162_left.jpeg  29.989548\n",
       "2998  43225_right.jpeg  29.992973\n",
       "2999  14933_right.jpeg  29.996082"
      ]
     },
     "execution_count": 43,
     "metadata": {
      "tags": []
     },
     "output_type": "execute_result"
    }
   ],
   "source": [
    "df.head(3000).tail(10)"
   ]
  },
  {
   "cell_type": "code",
   "execution_count": null,
   "metadata": {
    "colab": {
     "base_uri": "https://localhost:8080/",
     "height": 269
    },
    "colab_type": "code",
    "id": "jKYWb4EuknVQ",
    "outputId": "eba6f056-9bdb-48b4-8f95-7e887071c6ec"
   },
   "outputs": [
    {
     "data": {
      "image/png": "[encoded data removed]",
      "text/plain": [
       "<Figure size 432x288 with 1 Axes>"
      ]
     },
     "metadata": {
      "tags": []
     },
     "output_type": "display_data"
    }
   ],
   "source": [
    "# Display the image with the lowest blur score from directory \"tmp/train/0/\"\n",
    "image = cv2.imread(\"./tmp/train/0/27481_right.jpeg\")\n",
    "plt.imshow(image);\n",
    "plt.show()"
   ]
  },
  {
   "cell_type": "code",
   "execution_count": null,
   "metadata": {
    "colab": {},
    "colab_type": "code",
    "id": "fyrjJz_4z1Fz"
   },
   "outputs": [],
   "source": [
    "# Remove blurry images from directory \"tmp/train/0/\"\n",
    "to_delete = df[\"index\"].head(3000).tolist()\n",
    "remove_blur_images(\"./tmp/train/0/\",to_delete)"
   ]
  },
  {
   "cell_type": "code",
   "execution_count": null,
   "metadata": {
    "colab": {
     "base_uri": "https://localhost:8080/",
     "height": 34
    },
    "colab_type": "code",
    "id": "7Wvv3Fqm1d1z",
    "outputId": "0eba2b61-98f5-4277-810a-f24d638e9635"
   },
   "outputs": [
    {
     "name": "stdout",
     "output_type": "stream",
     "text": [
      "22810\n"
     ]
    }
   ],
   "source": [
    "!ls tmp/train/0 | wc -l"
   ]
  },
  {
   "cell_type": "markdown",
   "metadata": {},
   "source": [
    "Calculate blur score for images in directory \"1\" and remove blurry images"
   ]
  },
  {
   "cell_type": "code",
   "execution_count": null,
   "metadata": {
    "colab": {
     "base_uri": "https://localhost:8080/",
     "height": 52
    },
    "colab_type": "code",
    "id": "dqnlrml01pQe",
    "outputId": "dc7f9a5e-9571-4c62-bcd3-4a9a9a443f3d"
   },
   "outputs": [
    {
     "name": "stdout",
     "output_type": "stream",
     "text": [
      "CPU times: user 20.3 s, sys: 3.23 s, total: 23.6 s\n",
      "Wall time: 21.1 s\n"
     ]
    }
   ],
   "source": [
    "# Calculate blur scores for images in directory \"tmp/train/1/\"\n",
    "%time dict_sharp = blur_check(\"./tmp/train/1/\")"
   ]
  },
  {
   "cell_type": "code",
   "execution_count": null,
   "metadata": {
    "colab": {},
    "colab_type": "code",
    "id": "zRyzin_21pNO"
   },
   "outputs": [],
   "source": [
    "frame = pd.Series(dict_sharp)\n",
    "df = pd.DataFrame(frame,columns=[\"val\"])\n",
    "df.sort_values(by='val',inplace=True)\n",
    "df.reset_index(level=0, inplace=True)"
   ]
  },
  {
   "cell_type": "code",
   "execution_count": null,
   "metadata": {
    "colab": {
     "base_uri": "https://localhost:8080/",
     "height": 206
    },
    "colab_type": "code",
    "id": "PwFoKIyV2JY7",
    "outputId": "7f5e760b-aab2-4610-e96d-81ab3a5d13ae"
   },
   "outputs": [
    {
     "data": {
      "text/html": [
       "<div>\n",
       "<style scoped>\n",
       "    .dataframe tbody tr th:only-of-type {\n",
       "        vertical-align: middle;\n",
       "    }\n",
       "\n",
       "    .dataframe tbody tr th {\n",
       "        vertical-align: top;\n",
       "    }\n",
       "\n",
       "    .dataframe thead th {\n",
       "        text-align: right;\n",
       "    }\n",
       "</style>\n",
       "<table border=\"1\" class=\"dataframe\">\n",
       "  <thead>\n",
       "    <tr style=\"text-align: right;\">\n",
       "      <th></th>\n",
       "      <th>index</th>\n",
       "      <th>val</th>\n",
       "    </tr>\n",
       "  </thead>\n",
       "  <tbody>\n",
       "    <tr>\n",
       "      <th>95</th>\n",
       "      <td>13043_right.jpeg</td>\n",
       "      <td>23.295280</td>\n",
       "    </tr>\n",
       "    <tr>\n",
       "      <th>96</th>\n",
       "      <td>30205_left.jpeg</td>\n",
       "      <td>23.316267</td>\n",
       "    </tr>\n",
       "    <tr>\n",
       "      <th>97</th>\n",
       "      <td>393_right.jpeg</td>\n",
       "      <td>23.355272</td>\n",
       "    </tr>\n",
       "    <tr>\n",
       "      <th>98</th>\n",
       "      <td>41105_right.jpeg</td>\n",
       "      <td>23.369600</td>\n",
       "    </tr>\n",
       "    <tr>\n",
       "      <th>99</th>\n",
       "      <td>39832_left.jpeg</td>\n",
       "      <td>23.531645</td>\n",
       "    </tr>\n",
       "  </tbody>\n",
       "</table>\n",
       "</div>"
      ],
      "text/plain": [
       "               index        val\n",
       "95  13043_right.jpeg  23.295280\n",
       "96   30205_left.jpeg  23.316267\n",
       "97    393_right.jpeg  23.355272\n",
       "98  41105_right.jpeg  23.369600\n",
       "99   39832_left.jpeg  23.531645"
      ]
     },
     "execution_count": 57,
     "metadata": {
      "tags": []
     },
     "output_type": "execute_result"
    }
   ],
   "source": [
    "df.head(100).tail()"
   ]
  },
  {
   "cell_type": "code",
   "execution_count": null,
   "metadata": {
    "colab": {},
    "colab_type": "code",
    "id": "p5rPUWJS25Fp"
   },
   "outputs": [],
   "source": [
    "# Remove blurry images from directory \"tmp/train/1/\"\n",
    "to_delete = df[\"index\"].head(100).tolist()"
   ]
  },
  {
   "cell_type": "code",
   "execution_count": null,
   "metadata": {
    "colab": {},
    "colab_type": "code",
    "id": "-zyBCI5v3HBv"
   },
   "outputs": [],
   "source": [
    "remove_blur_images(\"./tmp/train/1/\",to_delete)"
   ]
  },
  {
   "cell_type": "code",
   "execution_count": null,
   "metadata": {
    "colab": {
     "base_uri": "https://localhost:8080/",
     "height": 34
    },
    "colab_type": "code",
    "id": "_vyv_bNV3Kfw",
    "outputId": "6663e52e-0e84-4fd8-9404-d15f3851eb59"
   },
   "outputs": [
    {
     "name": "stdout",
     "output_type": "stream",
     "text": [
      "2343\n"
     ]
    }
   ],
   "source": [
    "!ls tmp/train/1 | wc -l"
   ]
  },
  {
   "cell_type": "markdown",
   "metadata": {},
   "source": [
    "Calculate blur score for images in directory \"2\" and remove blurry images"
   ]
  },
  {
   "cell_type": "code",
   "execution_count": null,
   "metadata": {
    "colab": {
     "base_uri": "https://localhost:8080/",
     "height": 52
    },
    "colab_type": "code",
    "id": "QOrLZKTU3OBJ",
    "outputId": "cff6fd4f-6346-4ac1-a388-3e987b242f0e"
   },
   "outputs": [
    {
     "name": "stdout",
     "output_type": "stream",
     "text": [
      "CPU times: user 43.5 s, sys: 6.05 s, total: 49.5 s\n",
      "Wall time: 43.2 s\n"
     ]
    }
   ],
   "source": [
    "# Calculate blur scores for images in directory \"tmp/train/2/\"\n",
    "%time dict_sharp = blur_check(\"./tmp/train/2/\")"
   ]
  },
  {
   "cell_type": "code",
   "execution_count": null,
   "metadata": {
    "colab": {},
    "colab_type": "code",
    "id": "64Ur2xRJ3OwV"
   },
   "outputs": [],
   "source": [
    "frame = pd.Series(dict_sharp)\n",
    "df = pd.DataFrame(frame,columns=[\"val\"])\n",
    "df.sort_values(by='val',inplace=True)\n",
    "df.reset_index(level=0, inplace=True)"
   ]
  },
  {
   "cell_type": "code",
   "execution_count": null,
   "metadata": {
    "colab": {
     "base_uri": "https://localhost:8080/",
     "height": 206
    },
    "colab_type": "code",
    "id": "W-Oe_4Fj3SYU",
    "outputId": "697d2b1d-de0d-4c2e-e986-e641125b95d1"
   },
   "outputs": [
    {
     "data": {
      "text/html": [
       "<div>\n",
       "<style scoped>\n",
       "    .dataframe tbody tr th:only-of-type {\n",
       "        vertical-align: middle;\n",
       "    }\n",
       "\n",
       "    .dataframe tbody tr th {\n",
       "        vertical-align: top;\n",
       "    }\n",
       "\n",
       "    .dataframe thead th {\n",
       "        text-align: right;\n",
       "    }\n",
       "</style>\n",
       "<table border=\"1\" class=\"dataframe\">\n",
       "  <thead>\n",
       "    <tr style=\"text-align: right;\">\n",
       "      <th></th>\n",
       "      <th>index</th>\n",
       "      <th>val</th>\n",
       "    </tr>\n",
       "  </thead>\n",
       "  <tbody>\n",
       "    <tr>\n",
       "      <th>245</th>\n",
       "      <td>21447_right.jpeg</td>\n",
       "      <td>18.958998</td>\n",
       "    </tr>\n",
       "    <tr>\n",
       "      <th>246</th>\n",
       "      <td>33746_right.jpeg</td>\n",
       "      <td>18.960989</td>\n",
       "    </tr>\n",
       "    <tr>\n",
       "      <th>247</th>\n",
       "      <td>30069_left.jpeg</td>\n",
       "      <td>18.976494</td>\n",
       "    </tr>\n",
       "    <tr>\n",
       "      <th>248</th>\n",
       "      <td>9942_right.jpeg</td>\n",
       "      <td>18.976888</td>\n",
       "    </tr>\n",
       "    <tr>\n",
       "      <th>249</th>\n",
       "      <td>2357_left.jpeg</td>\n",
       "      <td>19.053912</td>\n",
       "    </tr>\n",
       "  </tbody>\n",
       "</table>\n",
       "</div>"
      ],
      "text/plain": [
       "                index        val\n",
       "245  21447_right.jpeg  18.958998\n",
       "246  33746_right.jpeg  18.960989\n",
       "247   30069_left.jpeg  18.976494\n",
       "248   9942_right.jpeg  18.976888\n",
       "249    2357_left.jpeg  19.053912"
      ]
     },
     "execution_count": 66,
     "metadata": {
      "tags": []
     },
     "output_type": "execute_result"
    }
   ],
   "source": [
    "df.head(250).tail()"
   ]
  },
  {
   "cell_type": "code",
   "execution_count": null,
   "metadata": {
    "colab": {},
    "colab_type": "code",
    "id": "yIWa-4qt3TwL"
   },
   "outputs": [],
   "source": [
    "# Remove blurry images from directory \"tmp/train/2/\"\n",
    "to_delete = df[\"index\"].head(250).tolist()"
   ]
  },
  {
   "cell_type": "code",
   "execution_count": null,
   "metadata": {
    "colab": {},
    "colab_type": "code",
    "id": "rQh-WC9Z3XBU"
   },
   "outputs": [],
   "source": [
    "remove_blur_images(\"./tmp/train/2/\",to_delete)"
   ]
  },
  {
   "cell_type": "markdown",
   "metadata": {},
   "source": [
    "Calculate blur score for images in directory \"3\" and remove blurry images"
   ]
  },
  {
   "cell_type": "code",
   "execution_count": null,
   "metadata": {
    "colab": {
     "base_uri": "https://localhost:8080/",
     "height": 52
    },
    "colab_type": "code",
    "id": "0M0WHf5I3XIw",
    "outputId": "dcb55ce9-804f-4608-e9f0-f178341a97b3"
   },
   "outputs": [
    {
     "name": "stdout",
     "output_type": "stream",
     "text": [
      "CPU times: user 7.25 s, sys: 983 ms, total: 8.23 s\n",
      "Wall time: 7.19 s\n"
     ]
    }
   ],
   "source": [
    "# Calculate blur scores for images in directory \"tmp/train/3/\"\n",
    "%time dict_sharp = blur_check(\"./tmp/train/3/\")"
   ]
  },
  {
   "cell_type": "code",
   "execution_count": null,
   "metadata": {
    "colab": {},
    "colab_type": "code",
    "id": "jYYyo2O03XF5"
   },
   "outputs": [],
   "source": [
    "frame = pd.Series(dict_sharp)\n",
    "df = pd.DataFrame(frame,columns=[\"val\"])\n",
    "df.sort_values(by='val',inplace=True)\n",
    "df.reset_index(level=0, inplace=True)"
   ]
  },
  {
   "cell_type": "code",
   "execution_count": null,
   "metadata": {
    "colab": {
     "base_uri": "https://localhost:8080/",
     "height": 206
    },
    "colab_type": "code",
    "id": "Fs77DNAv3Ywk",
    "outputId": "0276d41b-589b-4bcb-ac3a-3c4d9b0fe319"
   },
   "outputs": [
    {
     "data": {
      "text/html": [
       "<div>\n",
       "<style scoped>\n",
       "    .dataframe tbody tr th:only-of-type {\n",
       "        vertical-align: middle;\n",
       "    }\n",
       "\n",
       "    .dataframe tbody tr th {\n",
       "        vertical-align: top;\n",
       "    }\n",
       "\n",
       "    .dataframe thead th {\n",
       "        text-align: right;\n",
       "    }\n",
       "</style>\n",
       "<table border=\"1\" class=\"dataframe\">\n",
       "  <thead>\n",
       "    <tr style=\"text-align: right;\">\n",
       "      <th></th>\n",
       "      <th>index</th>\n",
       "      <th>val</th>\n",
       "    </tr>\n",
       "  </thead>\n",
       "  <tbody>\n",
       "    <tr>\n",
       "      <th>35</th>\n",
       "      <td>8699_left.jpeg</td>\n",
       "      <td>16.152079</td>\n",
       "    </tr>\n",
       "    <tr>\n",
       "      <th>36</th>\n",
       "      <td>40259_left.jpeg</td>\n",
       "      <td>17.012925</td>\n",
       "    </tr>\n",
       "    <tr>\n",
       "      <th>37</th>\n",
       "      <td>5298_right.jpeg</td>\n",
       "      <td>17.035852</td>\n",
       "    </tr>\n",
       "    <tr>\n",
       "      <th>38</th>\n",
       "      <td>18971_left.jpeg</td>\n",
       "      <td>17.069210</td>\n",
       "    </tr>\n",
       "    <tr>\n",
       "      <th>39</th>\n",
       "      <td>34006_right.jpeg</td>\n",
       "      <td>17.433434</td>\n",
       "    </tr>\n",
       "  </tbody>\n",
       "</table>\n",
       "</div>"
      ],
      "text/plain": [
       "               index        val\n",
       "35    8699_left.jpeg  16.152079\n",
       "36   40259_left.jpeg  17.012925\n",
       "37   5298_right.jpeg  17.035852\n",
       "38   18971_left.jpeg  17.069210\n",
       "39  34006_right.jpeg  17.433434"
      ]
     },
     "execution_count": 81,
     "metadata": {
      "tags": []
     },
     "output_type": "execute_result"
    }
   ],
   "source": [
    "df.head(40).tail()"
   ]
  },
  {
   "cell_type": "code",
   "execution_count": null,
   "metadata": {
    "colab": {},
    "colab_type": "code",
    "id": "2Bmi1_tE4AoT"
   },
   "outputs": [],
   "source": [
    "# Remove blurry images from directory \"tmp/train/3/\"\n",
    "to_delete = df[\"index\"].head(40).tolist()"
   ]
  },
  {
   "cell_type": "code",
   "execution_count": null,
   "metadata": {
    "colab": {},
    "colab_type": "code",
    "id": "CWv66s-c4Eng"
   },
   "outputs": [],
   "source": [
    "remove_blur_images(\"./tmp/train/3/\",to_delete)"
   ]
  },
  {
   "cell_type": "markdown",
   "metadata": {},
   "source": [
    "Calculate blur score for images in directory \"4\" and remove blurry images"
   ]
  },
  {
   "cell_type": "code",
   "execution_count": null,
   "metadata": {
    "colab": {
     "base_uri": "https://localhost:8080/",
     "height": 52
    },
    "colab_type": "code",
    "id": "Qh8ADIFe3Yss",
    "outputId": "1ee08570-ce7c-4d4f-e807-2800210b2e85"
   },
   "outputs": [
    {
     "name": "stdout",
     "output_type": "stream",
     "text": [
      "CPU times: user 5.92 s, sys: 776 ms, total: 6.69 s\n",
      "Wall time: 5.84 s\n"
     ]
    }
   ],
   "source": [
    "# Calculate blur scores for images in directory \"tmp/train/4/\"\n",
    "%time dict_sharp = blur_check(\"./tmp/train/4/\")"
   ]
  },
  {
   "cell_type": "code",
   "execution_count": null,
   "metadata": {
    "colab": {},
    "colab_type": "code",
    "id": "ror4eogp3aLU"
   },
   "outputs": [],
   "source": [
    "frame = pd.Series(dict_sharp)\n",
    "df = pd.DataFrame(frame,columns=[\"val\"])\n",
    "df.sort_values(by='val',inplace=True)\n",
    "df.reset_index(level=0, inplace=True)"
   ]
  },
  {
   "cell_type": "code",
   "execution_count": null,
   "metadata": {
    "colab": {
     "base_uri": "https://localhost:8080/",
     "height": 990
    },
    "colab_type": "code",
    "id": "06sCV8pl3aR9",
    "outputId": "4a4029ef-1740-415c-d748-b1522f0ab338"
   },
   "outputs": [
    {
     "data": {
      "text/html": [
       "<div>\n",
       "<style scoped>\n",
       "    .dataframe tbody tr th:only-of-type {\n",
       "        vertical-align: middle;\n",
       "    }\n",
       "\n",
       "    .dataframe tbody tr th {\n",
       "        vertical-align: top;\n",
       "    }\n",
       "\n",
       "    .dataframe thead th {\n",
       "        text-align: right;\n",
       "    }\n",
       "</style>\n",
       "<table border=\"1\" class=\"dataframe\">\n",
       "  <thead>\n",
       "    <tr style=\"text-align: right;\">\n",
       "      <th></th>\n",
       "      <th>index</th>\n",
       "      <th>val</th>\n",
       "    </tr>\n",
       "  </thead>\n",
       "  <tbody>\n",
       "    <tr>\n",
       "      <th>0</th>\n",
       "      <td>30723_left.jpeg</td>\n",
       "      <td>4.110168</td>\n",
       "    </tr>\n",
       "    <tr>\n",
       "      <th>1</th>\n",
       "      <td>40178_left.jpeg</td>\n",
       "      <td>5.632523</td>\n",
       "    </tr>\n",
       "    <tr>\n",
       "      <th>2</th>\n",
       "      <td>30675_left.jpeg</td>\n",
       "      <td>7.969081</td>\n",
       "    </tr>\n",
       "    <tr>\n",
       "      <th>3</th>\n",
       "      <td>6613_right.jpeg</td>\n",
       "      <td>8.131547</td>\n",
       "    </tr>\n",
       "    <tr>\n",
       "      <th>4</th>\n",
       "      <td>41852_right.jpeg</td>\n",
       "      <td>8.718414</td>\n",
       "    </tr>\n",
       "    <tr>\n",
       "      <th>5</th>\n",
       "      <td>17411_right.jpeg</td>\n",
       "      <td>9.154816</td>\n",
       "    </tr>\n",
       "    <tr>\n",
       "      <th>6</th>\n",
       "      <td>35704_left.jpeg</td>\n",
       "      <td>9.200000</td>\n",
       "    </tr>\n",
       "    <tr>\n",
       "      <th>7</th>\n",
       "      <td>31659_right.jpeg</td>\n",
       "      <td>9.372860</td>\n",
       "    </tr>\n",
       "    <tr>\n",
       "      <th>8</th>\n",
       "      <td>40819_left.jpeg</td>\n",
       "      <td>10.066191</td>\n",
       "    </tr>\n",
       "    <tr>\n",
       "      <th>9</th>\n",
       "      <td>9298_right.jpeg</td>\n",
       "      <td>10.068080</td>\n",
       "    </tr>\n",
       "    <tr>\n",
       "      <th>10</th>\n",
       "      <td>6613_left.jpeg</td>\n",
       "      <td>10.081295</td>\n",
       "    </tr>\n",
       "    <tr>\n",
       "      <th>11</th>\n",
       "      <td>36300_right.jpeg</td>\n",
       "      <td>10.214231</td>\n",
       "    </tr>\n",
       "    <tr>\n",
       "      <th>12</th>\n",
       "      <td>42316_left.jpeg</td>\n",
       "      <td>10.336052</td>\n",
       "    </tr>\n",
       "    <tr>\n",
       "      <th>13</th>\n",
       "      <td>5258_right.jpeg</td>\n",
       "      <td>10.546245</td>\n",
       "    </tr>\n",
       "    <tr>\n",
       "      <th>14</th>\n",
       "      <td>23648_right.jpeg</td>\n",
       "      <td>10.660364</td>\n",
       "    </tr>\n",
       "    <tr>\n",
       "      <th>15</th>\n",
       "      <td>42484_left.jpeg</td>\n",
       "      <td>10.778426</td>\n",
       "    </tr>\n",
       "    <tr>\n",
       "      <th>16</th>\n",
       "      <td>40819_right.jpeg</td>\n",
       "      <td>11.090302</td>\n",
       "    </tr>\n",
       "    <tr>\n",
       "      <th>17</th>\n",
       "      <td>40323_right.jpeg</td>\n",
       "      <td>11.342355</td>\n",
       "    </tr>\n",
       "    <tr>\n",
       "      <th>18</th>\n",
       "      <td>5258_left.jpeg</td>\n",
       "      <td>11.785373</td>\n",
       "    </tr>\n",
       "    <tr>\n",
       "      <th>19</th>\n",
       "      <td>21788_right.jpeg</td>\n",
       "      <td>11.791588</td>\n",
       "    </tr>\n",
       "    <tr>\n",
       "      <th>20</th>\n",
       "      <td>22716_left.jpeg</td>\n",
       "      <td>11.906851</td>\n",
       "    </tr>\n",
       "    <tr>\n",
       "      <th>21</th>\n",
       "      <td>37008_left.jpeg</td>\n",
       "      <td>12.160895</td>\n",
       "    </tr>\n",
       "    <tr>\n",
       "      <th>22</th>\n",
       "      <td>31659_left.jpeg</td>\n",
       "      <td>13.033192</td>\n",
       "    </tr>\n",
       "    <tr>\n",
       "      <th>23</th>\n",
       "      <td>39505_left.jpeg</td>\n",
       "      <td>13.103392</td>\n",
       "    </tr>\n",
       "    <tr>\n",
       "      <th>24</th>\n",
       "      <td>22716_right.jpeg</td>\n",
       "      <td>13.159921</td>\n",
       "    </tr>\n",
       "    <tr>\n",
       "      <th>25</th>\n",
       "      <td>16802_right.jpeg</td>\n",
       "      <td>13.668926</td>\n",
       "    </tr>\n",
       "    <tr>\n",
       "      <th>26</th>\n",
       "      <td>2804_right.jpeg</td>\n",
       "      <td>13.702373</td>\n",
       "    </tr>\n",
       "    <tr>\n",
       "      <th>27</th>\n",
       "      <td>21788_left.jpeg</td>\n",
       "      <td>14.047569</td>\n",
       "    </tr>\n",
       "    <tr>\n",
       "      <th>28</th>\n",
       "      <td>9298_left.jpeg</td>\n",
       "      <td>14.245277</td>\n",
       "    </tr>\n",
       "    <tr>\n",
       "      <th>29</th>\n",
       "      <td>8681_left.jpeg</td>\n",
       "      <td>14.351860</td>\n",
       "    </tr>\n",
       "  </tbody>\n",
       "</table>\n",
       "</div>"
      ],
      "text/plain": [
       "               index        val\n",
       "0    30723_left.jpeg   4.110168\n",
       "1    40178_left.jpeg   5.632523\n",
       "2    30675_left.jpeg   7.969081\n",
       "3    6613_right.jpeg   8.131547\n",
       "4   41852_right.jpeg   8.718414\n",
       "5   17411_right.jpeg   9.154816\n",
       "6    35704_left.jpeg   9.200000\n",
       "7   31659_right.jpeg   9.372860\n",
       "8    40819_left.jpeg  10.066191\n",
       "9    9298_right.jpeg  10.068080\n",
       "10    6613_left.jpeg  10.081295\n",
       "11  36300_right.jpeg  10.214231\n",
       "12   42316_left.jpeg  10.336052\n",
       "13   5258_right.jpeg  10.546245\n",
       "14  23648_right.jpeg  10.660364\n",
       "15   42484_left.jpeg  10.778426\n",
       "16  40819_right.jpeg  11.090302\n",
       "17  40323_right.jpeg  11.342355\n",
       "18    5258_left.jpeg  11.785373\n",
       "19  21788_right.jpeg  11.791588\n",
       "20   22716_left.jpeg  11.906851\n",
       "21   37008_left.jpeg  12.160895\n",
       "22   31659_left.jpeg  13.033192\n",
       "23   39505_left.jpeg  13.103392\n",
       "24  22716_right.jpeg  13.159921\n",
       "25  16802_right.jpeg  13.668926\n",
       "26   2804_right.jpeg  13.702373\n",
       "27   21788_left.jpeg  14.047569\n",
       "28    9298_left.jpeg  14.245277\n",
       "29    8681_left.jpeg  14.351860"
      ]
     },
     "execution_count": 86,
     "metadata": {
      "tags": []
     },
     "output_type": "execute_result"
    }
   ],
   "source": [
    "df.head(30)"
   ]
  },
  {
   "cell_type": "code",
   "execution_count": null,
   "metadata": {
    "colab": {},
    "colab_type": "code",
    "id": "O6XLxts63aPW"
   },
   "outputs": [],
   "source": [
    "# Remove blurry images from directory \"tmp/train/4/\"\n",
    "to_delete = df[\"index\"].head(30).tolist()"
   ]
  },
  {
   "cell_type": "code",
   "execution_count": null,
   "metadata": {
    "colab": {},
    "colab_type": "code",
    "id": "0n3KEIDo3aHa"
   },
   "outputs": [],
   "source": [
    "remove_blur_images(\"./tmp/train/4/\",to_delete)"
   ]
  },
  {
   "cell_type": "markdown",
   "metadata": {},
   "source": [
    "Print the number of images in each directory"
   ]
  },
  {
   "cell_type": "code",
   "execution_count": null,
   "metadata": {
    "colab": {
     "base_uri": "https://localhost:8080/",
     "height": 34
    },
    "colab_type": "code",
    "id": "mPKiOZEx4Tte",
    "outputId": "a5039b84-578b-4c39-d577-447dc420d447"
   },
   "outputs": [
    {
     "name": "stdout",
     "output_type": "stream",
     "text": [
      "22810\n"
     ]
    }
   ],
   "source": [
    "!ls tmp/train/0 | wc -l"
   ]
  },
  {
   "cell_type": "code",
   "execution_count": null,
   "metadata": {
    "colab": {
     "base_uri": "https://localhost:8080/",
     "height": 34
    },
    "colab_type": "code",
    "id": "-vosK4CG4Ty8",
    "outputId": "135be39c-138d-4ca6-cea9-00e6eee16aee"
   },
   "outputs": [
    {
     "name": "stdout",
     "output_type": "stream",
     "text": [
      "2343\n"
     ]
    }
   ],
   "source": [
    "!ls tmp/train/1 | wc -l"
   ]
  },
  {
   "cell_type": "code",
   "execution_count": null,
   "metadata": {
    "colab": {
     "base_uri": "https://localhost:8080/",
     "height": 34
    },
    "colab_type": "code",
    "id": "O60KHGJ44TwK",
    "outputId": "201cafc8-de7a-459a-9392-11330ab88493"
   },
   "outputs": [
    {
     "name": "stdout",
     "output_type": "stream",
     "text": [
      "5042\n"
     ]
    }
   ],
   "source": [
    "!ls tmp/train/2 | wc -l"
   ]
  },
  {
   "cell_type": "code",
   "execution_count": null,
   "metadata": {
    "colab": {
     "base_uri": "https://localhost:8080/",
     "height": 34
    },
    "colab_type": "code",
    "id": "wdovBQEj4TrT",
    "outputId": "a8d14f8e-e7bd-4737-c1f0-2b44a84ab366"
   },
   "outputs": [
    {
     "name": "stdout",
     "output_type": "stream",
     "text": [
      "833\n"
     ]
    }
   ],
   "source": [
    "!ls tmp/train/3 | wc -l"
   ]
  },
  {
   "cell_type": "code",
   "execution_count": null,
   "metadata": {
    "colab": {
     "base_uri": "https://localhost:8080/",
     "height": 34
    },
    "colab_type": "code",
    "id": "C8d_t9044Top",
    "outputId": "eccdc2d8-4a32-416f-a11d-433e27b73f3e"
   },
   "outputs": [
    {
     "name": "stdout",
     "output_type": "stream",
     "text": [
      "678\n"
     ]
    }
   ],
   "source": [
    "!ls tmp/train/4 | wc -l"
   ]
  },
  {
   "cell_type": "code",
   "execution_count": null,
   "metadata": {
    "colab": {},
    "colab_type": "code",
    "id": "xQDnlpe94wNn"
   },
   "outputs": [],
   "source": [
    "# Remove excess images from directory \"tmp/train/0/\"\n",
    "remove_excess_images(\"tmp/train/0/\",14000)"
   ]
  },
  {
   "cell_type": "code",
   "execution_count": null,
   "metadata": {
    "colab": {
     "base_uri": "https://localhost:8080/",
     "height": 34
    },
    "colab_type": "code",
    "id": "90mjFZPI4532",
    "outputId": "ed72c7b2-ec59-44fb-8a14-debe98b73012"
   },
   "outputs": [
    {
     "name": "stdout",
     "output_type": "stream",
     "text": [
      "8810\n"
     ]
    }
   ],
   "source": [
    "!ls tmp/train/0 | wc -l"
   ]
  },
  {
   "cell_type": "markdown",
   "metadata": {},
   "source": [
    "Apply data augmentation techniques to images in directory train/1,3,4"
   ]
  },
  {
   "cell_type": "code",
   "execution_count": null,
   "metadata": {
    "colab": {},
    "colab_type": "code",
    "id": "nlLsv6Nv6hU1"
   },
   "outputs": [],
   "source": [
    "data_aug_val_1(\"tmp/train/1/\")\n",
    "data_aug_val(\"tmp/train/3/\")\n",
    "data_aug_val(\"tmp/train/4/\")"
   ]
  },
  {
   "cell_type": "code",
   "execution_count": 1,
   "metadata": {},
   "outputs": [],
   "source": [
    "def upload_images_to_s3_with_structure(bucket_name, local_dir, prefix):\n",
    "    \"\"\"\n",
    "    Upload images to S3 with folder structure preserved.\n",
    "    \n",
    "    Parameters:\n",
    "        bucket_name (str): The name of the S3 bucket.\n",
    "        local_dir (str): The local directory containing the images.\n",
    "        prefix (str): The prefix (folder) in the S3 bucket where images will be uploaded.\n",
    "    \"\"\"\n",
    "    s3 = boto3.client('s3',\n",
    "                      aws_access_key_id='***',\n",
    "                      aws_secret_access_key='***',\n",
    "                      region_name='us-east-2')\n",
    "\n",
    "    for root, dirs, files in os.walk(local_dir):\n",
    "        for file in files:\n",
    "            local_path = os.path.join(root, file)\n",
    "            # Extract subdirectory relative to local_dir\n",
    "            relative_path = os.path.relpath(local_path, local_dir)\n",
    "            # Combine prefix and relative_path to get S3 key\n",
    "            s3_path = os.path.join(prefix, relative_path)\n",
    "            # Upload file to S3\n",
    "            s3.upload_file(local_path, bucket_name, s3_path)"
   ]
  },
  {
   "cell_type": "code",
   "execution_count": null,
   "metadata": {},
   "outputs": [],
   "source": [
    "# Call the function\n",
    "upload_images_to_s3_with_structure(S3_BUCKET_NAME, LOCAL_IMAGE_DIR, S3_TRAIN_IMAGES_PREFIX,)"
   ]
  }
 ],
 "metadata": {
  "accelerator": "GPU",
  "colab": {
   "name": "Data Cleaning DR",
   "provenance": [],
   "version": "0.3.2"
  },
  "kernelspec": {
   "display_name": "Python 3",
   "language": "python",
   "name": "python3"
  },
  "language_info": {
   "codemirror_mode": {
    "name": "ipython",
    "version": 3
   },
   "file_extension": ".py",
   "mimetype": "text/x-python",
   "name": "python",
   "nbconvert_exporter": "python",
   "pygments_lexer": "ipython3",
   "version": "3.11.7"
  }
 },
 "nbformat": 4,
 "nbformat_minor": 1
}
